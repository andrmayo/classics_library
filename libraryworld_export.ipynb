{
 "cells": [
  {
   "cell_type": "code",
   "execution_count": 41,
   "id": "4834e0e7-6279-464b-94de-d0f55cb4afb3",
   "metadata": {},
   "outputs": [
    {
     "name": "stdout",
     "output_type": "stream",
     "text": [
      "The autoreload extension is already loaded. To reload it, use:\n",
      "  %reload_ext autoreload\n"
     ]
    }
   ],
   "source": [
    "%load_ext autoreload\n",
    "%autoreload 2\n",
    "\n",
    "import pandas as pd\n",
    "from pymarc import MARCReader\n",
    "\n",
    "from utils import flatten_mixed_marc"
   ]
  },
  {
   "cell_type": "code",
   "execution_count": 42,
   "id": "1b1d17ae-e2a8-45c8-ac49-bfb9c5db93da",
   "metadata": {},
   "outputs": [],
   "source": [
    "flatten_mixed_marc(\"marc_test.marc\")"
   ]
  },
  {
   "cell_type": "code",
   "execution_count": 17,
   "id": "e2d1cabf-8c9d-4321-b3d8-0c9f38068095",
   "metadata": {},
   "outputs": [],
   "source": [
    "with open(\"librarything_UMClassics.marc\", \"r\") as f:\n",
    "    lines = f.readlines()"
   ]
  },
  {
   "cell_type": "code",
   "execution_count": 27,
   "id": "a678bd80-d71b-4f78-982f-c3334a3ce34c",
   "metadata": {},
   "outputs": [],
   "source": [
    "import re\n",
    "\n",
    "pattern = r\"(\\n|\\x1c|\\x1d|\\x1e|\\x1f)MDA\""
   ]
  },
  {
   "cell_type": "code",
   "execution_count": 34,
   "id": "429d4ad4-d39d-4015-b648-482cdd929ab3",
   "metadata": {},
   "outputs": [
    {
     "data": {
      "text/plain": [
       "(775, 779)"
      ]
     },
     "execution_count": 34,
     "metadata": {},
     "output_type": "execute_result"
    }
   ],
   "source": [
    "re.search(pattern, lines[0]).span()"
   ]
  },
  {
   "cell_type": "code",
   "execution_count": 36,
   "id": "e84cf159-bfdc-4111-bcec-3ec8d7ecbdba",
   "metadata": {},
   "outputs": [],
   "source": [
    "start, end = re.search(pattern, lines[0]).span()\n",
    "bob = lines[0][start:end]"
   ]
  },
  {
   "cell_type": "code",
   "execution_count": 40,
   "id": "7499362e-3bba-4ddb-bc0c-86321a2ba284",
   "metadata": {},
   "outputs": [
    {
     "data": {
      "text/plain": [
       "'00776     2200193 i 4500001000900000003000700009005001700016020001500033040002400048090003000072092000800102100002400110245017400134264003500308300001200343520020100355920000900556923001700565\\x1e65277343\\x1eMePoLT\\x1e20250509182141.0\\x1e  \\x1fa0674994787\\x1e  \\x1faMePoLT\\x1fcMePoLT\\x1ferda\\x1e 4\\x1faLOEB-PA 6121 .A4 1935 v.2\\x1e 4\\x1fa808\\x1e1 \\x1faPoets, Minor Latin.\\x1e10\\x1faMinor Latin Poets, Volume II: Florus. Hadrian. Nemesianus. Reposianus. Tiberianus. Dicta Catonis. Phoenix. Avianus. Rutilius Namatianus. Others (Loeb Classical Library).\\x1e 1\\x1fbLoeb Classical Library,\\x1fc1934.\\x1e  \\x1fa432  p.\\x1e  \\x1faMinor Latin Poets, Volume II: Florus. Hadrian. Nemesianus. Reposianus. Tiberianus. Dicta Catonis. Phoenix. Avianus. Rutilius Namatianus. Others (Loeb Classical Library) by Minor Latin Poets (1934)\\x1e  \\x1faLoeb\\x1e  \\x1faYour library\\x1e\\x1dMDA4MzEgICAgIDIyMDAxOTMgaSA0NTAwMDAxMDAwOTAwMDAwMDAzMDAwNzAwMDA5MDA1MDAxNzAw\\n'"
      ]
     },
     "execution_count": 40,
     "metadata": {},
     "output_type": "execute_result"
    }
   ],
   "source": [
    "lines[0]"
   ]
  },
  {
   "cell_type": "code",
   "execution_count": null,
   "id": "82e26ff8-9c6c-4a14-8148-51af471ffd04",
   "metadata": {},
   "outputs": [],
   "source": []
  }
 ],
 "metadata": {
  "kernelspec": {
   "display_name": "Python 3 (ipykernel)",
   "language": "python",
   "name": "python3"
  },
  "language_info": {
   "codemirror_mode": {
    "name": "ipython",
    "version": 3
   },
   "file_extension": ".py",
   "mimetype": "text/x-python",
   "name": "python",
   "nbconvert_exporter": "python",
   "pygments_lexer": "ipython3",
   "version": "3.12.0"
  }
 },
 "nbformat": 4,
 "nbformat_minor": 5
}
